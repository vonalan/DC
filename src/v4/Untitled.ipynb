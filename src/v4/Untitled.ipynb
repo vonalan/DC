{
 "cells": [
  {
   "cell_type": "code",
   "execution_count": 34,
   "metadata": {
    "collapsed": true
   },
   "outputs": [],
   "source": [
    "import numpy as np \n",
    "import tensorflow as tf\n",
    "\n",
    "def read_data_from_text(filenames=None, shuffle=False):\n",
    "    filenames = tf.placeholder(tf.string, shape=[None])\n",
    "    dataset = tf.data.TextLineDataset(filenames)\n",
    "\n",
    "    '''\n",
    "    map, shuffle, batch\n",
    "    '''\n",
    "    dataset.map(lambda line: tf.expand_dims(line, 0))\n",
    "    # if shuffle:\n",
    "    #     dataset.shuffle(100)\n",
    "    # dataset.batch(10)\n",
    "\n",
    "    iterator = dataset.make_initializable_iterator()\n",
    "    next_element = iterator.get_next()\n",
    "    return filenames, iterator, next_element"
   ]
  },
  {
   "cell_type": "code",
   "execution_count": 35,
   "metadata": {
    "collapsed": true
   },
   "outputs": [],
   "source": [
    "train_filenames, train_iterator, train_elements = read_data_from_text(shuffle=False)\n",
    "sess = tf.Session()\n",
    "sess.run(train_iterator.initializer, feed_dict={train_filenames:[r'F:\\Users\\Kingdom\\Desktop\\GIT\\DC\\data\\kth_xrand_r9_reduce.txt']})"
   ]
  }
 ],
 "metadata": {
  "anaconda-cloud": {},
  "kernelspec": {
   "display_name": "Python [default]",
   "language": "python",
   "name": "python3"
  },
  "language_info": {
   "codemirror_mode": {
    "name": "ipython",
    "version": 3
   },
   "file_extension": ".py",
   "mimetype": "text/x-python",
   "name": "python",
   "nbconvert_exporter": "python",
   "pygments_lexer": "ipython3",
   "version": "3.5.2"
  }
 },
 "nbformat": 4,
 "nbformat_minor": 1
}
